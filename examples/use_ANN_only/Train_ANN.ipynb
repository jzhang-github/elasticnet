{
 "cells": [
  {
   "cell_type": "markdown",
   "id": "17844672-d6d1-4804-8953-0eac8b394a2a",
   "metadata": {},
   "source": [
    "# ANN only\n",
    "## If you already have input data and want to train an ANN model only, you may follow this example."
   ]
  },
  {
   "cell_type": "markdown",
   "id": "2c3f7488-4076-4b01-bcf9-b7290f8f8b95",
   "metadata": {},
   "source": [
    "### 1. Prepare input data\n",
    "For example: `x_data.txt` and `y_data.txt`."
   ]
  },
  {
   "cell_type": "markdown",
   "id": "6078b2be-27f4-49f0-be63-74cd53e42ed6",
   "metadata": {},
   "source": [
    "### 2. Prepare `train.json` file\n",
    "This file is used to control the training.\n",
    "\n",
    "For example:\n",
    "```\n",
    "{\n",
    "    \"Nodes_per_layer\": [\n",
    "        80,\n",
    "        80,\n",
    "        80,\n",
    "        80\n",
    "    ],\n",
    "    \"Number_of_fold\": 5,\n",
    "    \"feature_file\": \"x_data.txt\",\n",
    "    \"label_file\": \"y_data.txt\",\n",
    "    \"Activation_function\": \"elu\",\n",
    "    \"Output_activation\": \"elu\",\n",
    "    \"Number_of_out_node\": 1,\n",
    "    \"Optimizer\": \"adam\",\n",
    "    \"Cost_function\": \"mae\",\n",
    "    \"Metrics\": [\n",
    "        \"mean_absolute_error\",\n",
    "        \"mean_absolute_percentage_error\"\n",
    "    ],\n",
    "    \"Batch_size\": 16,\n",
    "    \"Epochs\": 1000,\n",
    "    \"Verbose\": 0,\n",
    "    \"Regularization\": true,\n",
    "    \"Model_save_path\": \"./checkpoint/cp.ckpt\",\n",
    "    \"Log_save_path\": \"./checkpoint/log\",\n",
    "    \"Prediction_save_path\": \"./checkpoint/pred\",\n",
    "    \"SEED\": 666\n",
    "}\n",
    "```"
   ]
  },
  {
   "cell_type": "markdown",
   "id": "47376310-be3c-4271-a16c-a6aeed382c9c",
   "metadata": {},
   "source": [
    "### 3. Imoport `CV_ML_RUN` object"
   ]
  },
  {
   "cell_type": "code",
   "execution_count": 1,
   "id": "803a20e5-2587-4efa-9c27-9314c467ff84",
   "metadata": {},
   "outputs": [],
   "source": [
    "from elasticnet import CV_ML_RUN"
   ]
  },
  {
   "cell_type": "markdown",
   "id": "530c64bb-5dd2-4ae2-ba32-8438d73bfa0e",
   "metadata": {},
   "source": [
    "### 4. Start training"
   ]
  },
  {
   "cell_type": "code",
   "execution_count": 2,
   "id": "c3154aca-da7b-4155-bc05-d87d1c98c498",
   "metadata": {},
   "outputs": [
    {
     "name": "stdout",
     "output_type": "stream",
     "text": [
      "Parent process 39688.\n",
      "[<Process name='Process-1' pid=54624 parent=39688 started>, <Process name='Process-2' pid=31068 parent=39688 started>, <Process name='Process-3' pid=49928 parent=39688 started>, <Process name='Process-4' pid=51328 parent=39688 started>, <Process name='Process-5' pid=16140 parent=39688 started>]\n",
      "All subprocesses done.\n",
      "total_time 44.378360748291016 s\n"
     ]
    }
   ],
   "source": [
    "CV_ML_RUN('train.json')"
   ]
  },
  {
   "cell_type": "markdown",
   "id": "b609366a-bec9-4aa3-8fc4-e26e83de0f7c",
   "metadata": {},
   "source": [
    "Note that some outputs are printed on your console screen."
   ]
  },
  {
   "cell_type": "markdown",
   "id": "dd0f9dda-99d4-4218-951c-bed085258708",
   "metadata": {},
   "source": [
    "#### 4.1. Where is the well-trained model?\n",
    "`./checkpoint/cp.ckpt`\n",
    "This is also defined by the `Model_save_path` in the `train.json` file."
   ]
  },
  {
   "cell_type": "markdown",
   "id": "7431af75-dbea-4cb5-a4c5-d14166de1d8b",
   "metadata": {},
   "source": [
    "#### 4.2. Where is the loss curve and model performance?\n",
    "`./checkpoint/log`, which is defined by `Log_save_path` in the `train.json` file."
   ]
  },
  {
   "cell_type": "code",
   "execution_count": 3,
   "id": "285182c7-293b-42f5-b09c-a8916b2915d6",
   "metadata": {},
   "outputs": [],
   "source": [
    "import os\n",
    "import matplotlib.pyplot as plt\n",
    "import numpy as np"
   ]
  },
  {
   "cell_type": "markdown",
   "id": "ed5c5ff3-04a5-4aab-b9c0-8fdbb6563257",
   "metadata": {},
   "source": [
    "For example, if you want to visualize the loss curve stored in `./checkpoint/log/model_0-4_layer-80_80_80_80_nodes.acc.loss`, Run:"
   ]
  },
  {
   "cell_type": "markdown",
   "id": "7bca74b7-ee6a-4d80-8b0c-15daa31a869e",
   "metadata": {},
   "source": [
    "**Important**: If you changed the model structure, the file names for loss data will be different."
   ]
  },
  {
   "cell_type": "code",
   "execution_count": 4,
   "id": "7f111b0b-909a-4e5b-adbf-dbef40442fac",
   "metadata": {},
   "outputs": [
    {
     "data": {
      "image/png": "[encoded data removed]",
      "text/plain": [
       "<Figure size 640x480 with 1 Axes>"
      ]
     },
     "metadata": {},
     "output_type": "display_data"
    }
   ],
   "source": [
    "file_name = os.path.join('./checkpoint/log/model_0-3_layer-4_4_4_nodes.acc.loss')\n",
    "with open(file_name, 'r') as f:\n",
    "    comment = f.readline().split()\n",
    "    loss_data = np.loadtxt(f)\n",
    "\n",
    "epoch = loss_data[:,0]\n",
    "train_mae = loss_data[:,1]\n",
    "val_mae = loss_data[:,2]\n",
    "\n",
    "plt.plot(epoch, train_mae, label='Train MAE')\n",
    "plt.plot(epoch, val_mae, label='Validation MAE')\n",
    "plt.legend()\n",
    "plt.show()"
   ]
  },
  {
   "cell_type": "markdown",
   "id": "25702e97-ccca-434f-b02e-08522f53a302",
   "metadata": {},
   "source": [
    "### 5. Predict the dataset with the well-trained model"
   ]
  },
  {
   "cell_type": "code",
   "execution_count": 5,
   "id": "b172e718-8702-4212-bfc7-fb7657b083ce",
   "metadata": {},
   "outputs": [
    {
     "name": "stdout",
     "output_type": "stream",
     "text": [
      "1/1 [==============================] - 0s 77ms/step\n",
      "1/1 [==============================] - 0s 43ms/step\n",
      "1/1 [==============================] - 0s 38ms/step\n",
      "1/1 [==============================] - 0s 40ms/step\n",
      "WARNING:tensorflow:5 out of the last 5 calls to <function Model.make_predict_function.<locals>.predict_function at 0x000001C3987BD510> triggered tf.function retracing. Tracing is expensive and the excessive number of tracings could be due to (1) creating @tf.function repeatedly in a loop, (2) passing tensors with different shapes, (3) passing Python objects instead of tensors. For (1), please define your @tf.function outside of the loop. For (2), @tf.function has reduce_retracing=True option that can avoid unnecessary retracing. For (3), please refer to https://www.tensorflow.org/guide/function#controlling_retracing and https://www.tensorflow.org/api_docs/python/tf/function for  more details.\n",
      "1/1 [==============================] - 0s 39ms/step\n"
     ]
    },
    {
     "data": {
      "text/plain": [
       "(array([[0.19241282],\n",
       "        [0.16862643],\n",
       "        [0.16943201],\n",
       "        [0.19766605],\n",
       "        [0.17054641],\n",
       "        [0.18155846],\n",
       "        [0.18130076],\n",
       "        [0.19667402],\n",
       "        [0.1816723 ],\n",
       "        [0.16985415],\n",
       "        [0.18636446],\n",
       "        [0.1708882 ],\n",
       "        [0.18554701],\n",
       "        [0.17046952],\n",
       "        [0.18524519],\n",
       "        [0.17798732],\n",
       "        [0.18894646],\n",
       "        [0.17843986],\n",
       "        [0.18118896],\n",
       "        [0.1706304 ],\n",
       "        [0.18063973],\n",
       "        [0.18846373],\n",
       "        [0.17802337],\n",
       "        [0.18834321],\n",
       "        [0.18118437],\n",
       "        [0.18444721],\n",
       "        [0.1762236 ],\n",
       "        [0.18406819],\n",
       "        [0.18445474],\n",
       "        [0.17880492],\n",
       "        [0.18194088]], dtype=float32),\n",
       " array([[0.17446215, 0.21178666, 0.2099513 , 0.19090435, 0.17495959],\n",
       "        [0.17125174, 0.15444556, 0.16779047, 0.16673636, 0.18290798],\n",
       "        [0.17150635, 0.15555155, 0.1698927 , 0.16724645, 0.18296301],\n",
       "        [0.17561111, 0.22275466, 0.2214331 , 0.1933505 , 0.17518085],\n",
       "        [0.17169347, 0.15823495, 0.17201497, 0.16778009, 0.18300854],\n",
       "        [0.17346758, 0.18555969, 0.19024406, 0.1794721 , 0.17904882],\n",
       "        [0.17349121, 0.18462193, 0.18991269, 0.17942666, 0.17905127],\n",
       "        [0.17537764, 0.22076896, 0.21921122, 0.19287571, 0.17513664],\n",
       "        [0.17355967, 0.1854878 , 0.19064568, 0.17960204, 0.17906637],\n",
       "        [0.17152931, 0.15678018, 0.1706052 , 0.16738601, 0.18297012],\n",
       "        [0.17442504, 0.1958397 , 0.20055279, 0.18175341, 0.17925136],\n",
       "        [0.17170277, 0.15927005, 0.1725756 , 0.16788036, 0.18301226],\n",
       "        [0.17429893, 0.1939747 , 0.19882607, 0.18141113, 0.17922421],\n",
       "        [0.1716806 , 0.15804988, 0.17186835, 0.16774338, 0.18300541],\n",
       "        [0.17424355, 0.19327849, 0.19822168, 0.18127017, 0.17921199],\n",
       "        [0.1729938 , 0.17664236, 0.18423666, 0.17572516, 0.18033867],\n",
       "        [0.17465962, 0.2023693 , 0.20474859, 0.18510337, 0.17785142],\n",
       "        [0.17307444, 0.17770737, 0.18512043, 0.17593998, 0.18035704],\n",
       "        [0.17360505, 0.18363506, 0.19105352, 0.17704152, 0.1806096 ],\n",
       "        [0.17166966, 0.15854838, 0.17217915, 0.16770698, 0.18304782],\n",
       "        [0.17352669, 0.18234073, 0.18992658, 0.17681275, 0.18059187],\n",
       "        [0.17459229, 0.20122786, 0.20375013, 0.18491141, 0.17783694],\n",
       "        [0.17304114, 0.17657334, 0.18436076, 0.17579325, 0.18034832],\n",
       "        [0.17456947, 0.20095241, 0.20350671, 0.18485539, 0.17783204],\n",
       "        [0.17360419, 0.18362442, 0.19104451, 0.17703934, 0.18060938],\n",
       "        [0.17406794, 0.19165167, 0.1964926 , 0.18080932, 0.17921455],\n",
       "        [0.17272541, 0.17224157, 0.1813844 , 0.17367056, 0.181096  ],\n",
       "        [0.17401692, 0.1907433 , 0.19571999, 0.18065749, 0.1792032 ],\n",
       "        [0.17406937, 0.19166908, 0.19650753, 0.18081284, 0.17921488],\n",
       "        [0.17319897, 0.17798328, 0.18674351, 0.1748967 , 0.18120213],\n",
       "        [0.17369597, 0.18566671, 0.1919706 , 0.17842254, 0.1799487 ]],\n",
       "       dtype=float32))"
      ]
     },
     "execution_count": 5,
     "metadata": {},
     "output_type": "execute_result"
    }
   ],
   "source": [
    "from elasticnet import load_and_pred\n",
    "load_and_pred('train.json', 'x_data.txt', write_pred_log=True, drop_cols=None)"
   ]
  },
  {
   "cell_type": "markdown",
   "id": "b01592b3-0bd2-42f2-9fc7-ad06a55f6aed",
   "metadata": {},
   "source": [
    "### 6. Draw *True* vs *Predict* plot"
   ]
  },
  {
   "cell_type": "code",
   "execution_count": 6,
   "id": "599f1a47-1fc6-405b-897f-0dff240995e6",
   "metadata": {},
   "outputs": [
    {
     "data": {
      "image/png": "[encoded data removed]",
      "text/plain": [
       "<Figure size 640x480 with 1 Axes>"
      ]
     },
     "metadata": {},
     "output_type": "display_data"
    }
   ],
   "source": [
    "true_y = np.loadtxt('y_data.txt')\n",
    "pred_y = np.loadtxt(os.path.join('checkpoint', 'pred', 'prediction_mean.txt'))\n",
    "plt.scatter(true_y, pred_y)\n",
    "plt.xlabel(\"True y\")\n",
    "plt.ylabel(\"Predicted y\")\n",
    "plt.show()"
   ]
  },
  {
   "cell_type": "markdown",
   "id": "706a35c6-eb78-4748-b15a-35311a9ed3c9",
   "metadata": {},
   "source": [
    "### 7. Optimize model performance.\n",
    "**You need to optimize parameters in `train.json`**"
   ]
  },
  {
   "cell_type": "markdown",
   "id": "46456b1e-8cd3-4309-b3d3-b1e530f39ef6",
   "metadata": {},
   "source": [
    "Generally, `Nodes_per_layer` is important."
   ]
  }
 ],
 "metadata": {
  "kernelspec": {
   "display_name": "Python 3 (ipykernel)",
   "language": "python",
   "name": "python3"
  },
  "language_info": {
   "codemirror_mode": {
    "name": "ipython",
    "version": 3
   },
   "file_extension": ".py",
   "mimetype": "text/x-python",
   "name": "python",
   "nbconvert_exporter": "python",
   "pygments_lexer": "ipython3",
   "version": "3.10.0"
  }
 },
 "nbformat": 4,
 "nbformat_minor": 5
}
