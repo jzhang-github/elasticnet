{
 "cells": [
  {
   "cell_type": "markdown",
   "id": "17844672-d6d1-4804-8953-0eac8b394a2a",
   "metadata": {},
   "source": [
    "# ANN only\n",
    "## If you already have input data and want to train an ANN model only, you may follow this example."
   ]
  },
  {
   "cell_type": "markdown",
   "id": "2c3f7488-4076-4b01-bcf9-b7290f8f8b95",
   "metadata": {},
   "source": [
    "### 1. Prepare input data\n",
    "For example: `x_data.txt` and `y_data.txt`."
   ]
  },
  {
   "cell_type": "markdown",
   "id": "6078b2be-27f4-49f0-be63-74cd53e42ed6",
   "metadata": {},
   "source": [
    "### 2. Prepare `train.json` file\n",
    "This file is used to control the training.\n",
    "\n",
    "For example:\n",
    "```\n",
    "{\n",
    "    \"Nodes_per_layer\": [\n",
    "        80,\n",
    "        80,\n",
    "        80,\n",
    "        80\n",
    "    ],\n",
    "    \"Number_of_fold\": 5,\n",
    "    \"feature_file\": \"x_data.txt\",\n",
    "    \"label_file\": \"y_data.txt\",\n",
    "    \"Activation_function\": \"elu\",\n",
    "    \"Output_activation\": \"elu\",\n",
    "    \"Number_of_out_node\": 1,\n",
    "    \"Optimizer\": \"adam\",\n",
    "    \"Cost_function\": \"mae\",\n",
    "    \"Metrics\": [\n",
    "        \"mean_absolute_error\",\n",
    "        \"mean_absolute_percentage_error\"\n",
    "    ],\n",
    "    \"Batch_size\": 16,\n",
    "    \"Epochs\": 1000,\n",
    "    \"Verbose\": 0,\n",
    "    \"Regularization\": true,\n",
    "    \"Model_save_path\": \"./checkpoint/cp.ckpt\",\n",
    "    \"Log_save_path\": \"./checkpoint/log\",\n",
    "    \"Prediction_save_path\": \"./checkpoint/pred\",\n",
    "    \"SEED\": 666\n",
    "}\n",
    "```"
   ]
  },
  {
   "cell_type": "markdown",
   "id": "47376310-be3c-4271-a16c-a6aeed382c9c",
   "metadata": {},
   "source": [
    "### 3. Imoport `CV_ML_RUN` object"
   ]
  },
  {
   "cell_type": "code",
   "execution_count": 2,
   "id": "803a20e5-2587-4efa-9c27-9314c467ff84",
   "metadata": {},
   "outputs": [],
   "source": [
    "from elasticnet import CV_ML_RUN"
   ]
  },
  {
   "cell_type": "markdown",
   "id": "530c64bb-5dd2-4ae2-ba32-8438d73bfa0e",
   "metadata": {},
   "source": [
    "### 4. Start training"
   ]
  },
  {
   "cell_type": "code",
   "execution_count": 4,
   "id": "c3154aca-da7b-4155-bc05-d87d1c98c498",
   "metadata": {},
   "outputs": [
    {
     "name": "stdout",
     "output_type": "stream",
     "text": [
      "Parent process 47920.\n",
      "[<Process name='Process-1' pid=25264 parent=47920 started>, <Process name='Process-2' pid=44420 parent=47920 started>, <Process name='Process-3' pid=15788 parent=47920 started>, <Process name='Process-4' pid=44508 parent=47920 started>, <Process name='Process-5' pid=45288 parent=47920 started>]\n",
      "All subprocesses done.\n",
      "total_time 49.36692476272583 s\n"
     ]
    }
   ],
   "source": [
    "CV_ML_RUN('train.json')"
   ]
  },
  {
   "cell_type": "markdown",
   "id": "b609366a-bec9-4aa3-8fc4-e26e83de0f7c",
   "metadata": {},
   "source": [
    "Note that some outputs are printed on your console screen."
   ]
  },
  {
   "cell_type": "markdown",
   "id": "dd0f9dda-99d4-4218-951c-bed085258708",
   "metadata": {},
   "source": [
    "#### 4.1. Where is the well-trained model?\n",
    "`./checkpoint/cp.ckpt`\n",
    "This is also defined by the `Model_save_path` in the `train.json` file."
   ]
  },
  {
   "cell_type": "markdown",
   "id": "7431af75-dbea-4cb5-a4c5-d14166de1d8b",
   "metadata": {},
   "source": [
    "#### 4.2. Where is the loss curve and model performance?\n",
    "`./checkpoint/log`, which is defined by `Log_save_path` in the `train.json` file."
   ]
  },
  {
   "cell_type": "code",
   "execution_count": 10,
   "id": "285182c7-293b-42f5-b09c-a8916b2915d6",
   "metadata": {},
   "outputs": [],
   "source": [
    "import os\n",
    "import matplotlib.pyplot as plt\n",
    "import numpy as np"
   ]
  },
  {
   "cell_type": "markdown",
   "id": "ed5c5ff3-04a5-4aab-b9c0-8fdbb6563257",
   "metadata": {},
   "source": [
    "For example, if you want to visualize the loss curve stored in `./checkpoint/log/model_0-4_layer-80_80_80_80_nodes.acc.loss`, Run:"
   ]
  },
  {
   "cell_type": "code",
   "execution_count": 20,
   "id": "7f111b0b-909a-4e5b-adbf-dbef40442fac",
   "metadata": {},
   "outputs": [
    {
     "data": {
      "image/png": "[encoded data removed]",
      "text/plain": [
       "<Figure size 640x480 with 1 Axes>"
      ]
     },
     "metadata": {},
     "output_type": "display_data"
    }
   ],
   "source": [
    "file_name = os.path.join('./checkpoint/log/model_0-4_layer-80_80_80_80_nodes.acc.loss')\n",
    "with open(file_name, 'r') as f:\n",
    "    comment = f.readline().split()\n",
    "    loss_data = np.loadtxt(f)\n",
    "\n",
    "epoch = loss_data[:,0]\n",
    "train_mae = loss_data[:,1]\n",
    "val_mae = loss_data[:,2]\n",
    "\n",
    "plt.plot(epoch, train_mae, label='Train MAE')\n",
    "plt.plot(epoch, val_mae, label='Validation MAE')\n",
    "plt.legend()\n",
    "plt.show()"
   ]
  },
  {
   "cell_type": "markdown",
   "id": "25702e97-ccca-434f-b02e-08522f53a302",
   "metadata": {},
   "source": [
    "### 5. Predict the dataset with the well-trained model"
   ]
  },
  {
   "cell_type": "code",
   "execution_count": 5,
   "id": "b172e718-8702-4212-bfc7-fb7657b083ce",
   "metadata": {},
   "outputs": [
    {
     "name": "stdout",
     "output_type": "stream",
     "text": [
      "1/1 [==============================] - 0s 111ms/step\n",
      "1/1 [==============================] - 0s 39ms/step\n",
      "1/1 [==============================] - 0s 41ms/step\n",
      "1/1 [==============================] - 0s 38ms/step\n",
      "WARNING:tensorflow:5 out of the last 5 calls to <function Model.make_predict_function.<locals>.predict_function at 0x000001DEA5513520> triggered tf.function retracing. Tracing is expensive and the excessive number of tracings could be due to (1) creating @tf.function repeatedly in a loop, (2) passing tensors with different shapes, (3) passing Python objects instead of tensors. For (1), please define your @tf.function outside of the loop. For (2), @tf.function has reduce_retracing=True option that can avoid unnecessary retracing. For (3), please refer to https://www.tensorflow.org/guide/function#controlling_retracing and https://www.tensorflow.org/api_docs/python/tf/function for  more details.\n",
      "1/1 [==============================] - 0s 53ms/step\n"
     ]
    },
    {
     "data": {
      "text/plain": [
       "(array([[0.18706536],\n",
       "        [0.1744112 ],\n",
       "        [0.17446049],\n",
       "        [0.18731898],\n",
       "        [0.17451893],\n",
       "        [0.1807783 ],\n",
       "        [0.18076997],\n",
       "        [0.1872704 ],\n",
       "        [0.18078867],\n",
       "        [0.17447841],\n",
       "        [0.18101771],\n",
       "        [0.1745325 ],\n",
       "        [0.18098012],\n",
       "        [0.17451489],\n",
       "        [0.18096507],\n",
       "        [0.17875955],\n",
       "        [0.18306617],\n",
       "        [0.17878257],\n",
       "        [0.17874199],\n",
       "        [0.17446312],\n",
       "        [0.17871656],\n",
       "        [0.1830447 ],\n",
       "        [0.1787648 ],\n",
       "        [0.18303876],\n",
       "        [0.17874175],\n",
       "        [0.18087225],\n",
       "        [0.17759976],\n",
       "        [0.18085517],\n",
       "        [0.18087262],\n",
       "        [0.1777301 ],\n",
       "        [0.17967394]], dtype=float32),\n",
       " array([[0.18050672, 0.19238468, 0.20276557, 0.18509553, 0.17457433],\n",
       "        [0.17538841, 0.169178  , 0.1796616 , 0.17352141, 0.17430665],\n",
       "        [0.17540085, 0.16929363, 0.17974748, 0.17355378, 0.1743067 ],\n",
       "        [0.18055615, 0.19293578, 0.20326677, 0.18526153, 0.17457461],\n",
       "        [0.17541204, 0.16941915, 0.17986356, 0.17359307, 0.1743068 ],\n",
       "        [0.17795481, 0.18086682, 0.19129977, 0.17932938, 0.1744406 ],\n",
       "        [0.1779549 , 0.18085374, 0.19127572, 0.17932488, 0.1744406 ],\n",
       "        [0.18054633, 0.19282924, 0.2031723 , 0.1852296 , 0.17457452],\n",
       "        [0.17795847, 0.18089394, 0.19131282, 0.17933741, 0.17444064],\n",
       "        [0.17540288, 0.16932848, 0.1797894 , 0.17356452, 0.17430672],\n",
       "        [0.17800167, 0.18138772, 0.19177252, 0.17948578, 0.17444089],\n",
       "        [0.17541327, 0.16944477, 0.17989686, 0.17360087, 0.1743068 ],\n",
       "        [0.17799519, 0.18130817, 0.19169402, 0.17946236, 0.17444085],\n",
       "        [0.17541124, 0.16941051, 0.17985557, 0.17359029, 0.1743068 ],\n",
       "        [0.17799233, 0.18127578, 0.19166407, 0.17945227, 0.17444085],\n",
       "        [0.17713562, 0.17717384, 0.18761185, 0.17747892, 0.17439757],\n",
       "        [0.17884502, 0.1851195 , 0.19550192, 0.18137886, 0.17448564],\n",
       "        [0.17714003, 0.1772233 , 0.1876576 , 0.17749436, 0.17439757],\n",
       "        [0.17709054, 0.17720182, 0.18760794, 0.17741609, 0.17439358],\n",
       "        [0.17538683, 0.16931677, 0.17976752, 0.17353897, 0.17430544],\n",
       "        [0.17708628, 0.1771483 , 0.1875544 , 0.17740023, 0.17439355],\n",
       "        [0.1788416 , 0.18507473, 0.195456  , 0.1813656 , 0.17448562],\n",
       "        [0.17713775, 0.17718787, 0.18761726, 0.17748362, 0.17439754],\n",
       "        [0.17884043, 0.18506195, 0.19544426, 0.18136156, 0.1744856 ],\n",
       "        [0.17709048, 0.17720132, 0.18760745, 0.17741592, 0.17439358],\n",
       "        [0.17796172, 0.18109187, 0.1914918 , 0.17937623, 0.1744396 ],\n",
       "        [0.17666115, 0.17505726, 0.18549582, 0.17641209, 0.17437245],\n",
       "        [0.177959  , 0.18105628, 0.19145532, 0.1793657 , 0.17443956],\n",
       "        [0.17796181, 0.18109266, 0.19149256, 0.17937647, 0.1744396 ],\n",
       "        [0.1766863 , 0.17533964, 0.18575469, 0.1764972 , 0.17437263],\n",
       "        [0.17747968, 0.17889161, 0.18930067, 0.17828336, 0.17441441]],\n",
       "       dtype=float32))"
      ]
     },
     "execution_count": 5,
     "metadata": {},
     "output_type": "execute_result"
    }
   ],
   "source": [
    "from elasticnet import load_and_pred\n",
    "load_and_pred('train.json', 'x_data.txt', write_pred_log=True, drop_cols=None)"
   ]
  },
  {
   "cell_type": "markdown",
   "id": "b01592b3-0bd2-42f2-9fc7-ad06a55f6aed",
   "metadata": {},
   "source": [
    "### 6. Draw *True* vs *Predict* plot"
   ]
  },
  {
   "cell_type": "code",
   "execution_count": 21,
   "id": "599f1a47-1fc6-405b-897f-0dff240995e6",
   "metadata": {},
   "outputs": [
    {
     "data": {
      "image/png": "[encoded data removed]",
      "text/plain": [
       "<Figure size 640x480 with 1 Axes>"
      ]
     },
     "metadata": {},
     "output_type": "display_data"
    }
   ],
   "source": [
    "true_y = np.loadtxt('y_data.txt')\n",
    "pred_y = np.loadtxt(os.path.join('checkpoint', 'pred', 'prediction_mean.txt'))\n",
    "plt.scatter(true_y, pred_y)\n",
    "plt.xlabel(\"True y\")\n",
    "plt.ylabel(\"Predicted y\")\n",
    "plt.show()"
   ]
  },
  {
   "cell_type": "markdown",
   "id": "706a35c6-eb78-4748-b15a-35311a9ed3c9",
   "metadata": {},
   "source": [
    "### 7. Optimize model performance.\n",
    "**You need to optimize parameters in `train.json`**"
   ]
  },
  {
   "cell_type": "markdown",
   "id": "46456b1e-8cd3-4309-b3d3-b1e530f39ef6",
   "metadata": {},
   "source": [
    "Generally, `Nodes_per_layer` is important."
   ]
  }
 ],
 "metadata": {
  "kernelspec": {
   "display_name": "Python 3 (ipykernel)",
   "language": "python",
   "name": "python3"
  },
  "language_info": {
   "codemirror_mode": {
    "name": "ipython",
    "version": 3
   },
   "file_extension": ".py",
   "mimetype": "text/x-python",
   "name": "python",
   "nbconvert_exporter": "python",
   "pygments_lexer": "ipython3",
   "version": "3.10.0"
  }
 },
 "nbformat": 4,
 "nbformat_minor": 5
}
