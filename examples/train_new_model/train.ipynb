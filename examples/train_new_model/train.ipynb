{
 "cells": [
  {
   "cell_type": "markdown",
   "id": "ce8f5a94-a6d2-4162-90f4-ada12f759ca7",
   "metadata": {},
   "source": [
    "# Train a new elasticnet model"
   ]
  },
  {
   "cell_type": "markdown",
   "id": "1cb768c5-86e8-4dd5-9154-66a4846a5b9b",
   "metadata": {},
   "source": [
    "Installation: https://github.com/jzhang-github/elasticnet?tab=readme-ov-file#installation"
   ]
  },
  {
   "cell_type": "markdown",
   "id": "b770ef06-9c00-4483-a35a-9c203b809a25",
   "metadata": {},
   "source": [
    "## 1. Train a new model from scratch"
   ]
  },
  {
   "cell_type": "markdown",
   "id": "3a02fea7-b068-4960-8ad7-eef169116fea",
   "metadata": {},
   "source": [
    "### 1.1 Prepare dataset"
   ]
  },
  {
   "cell_type": "code",
   "execution_count": 4,
   "id": "0945a0a9-ccb7-427b-a86d-c8c98b727af9",
   "metadata": {
    "scrolled": true
   },
   "outputs": [
    {
     "name": "stdout",
     "output_type": "stream",
     "text": [
      "[2.64991014 0.90812533 0.82348763 0.66372222 0.3129827  0.17607245\n",
      " 0.14725571 0.12874047 0.10146471 0.07310082 0.06091133 0.04701927\n",
      " 0.03786034 0.03170226 0.02655899 0.02333743 0.01763812 0.01655597\n",
      " 0.01422444 0.00985953 0.0092823  0.00834614 0.00719781 0.00623249\n",
      " 0.00491198 0.00432655]\n",
      "[0.41784819 0.14319675 0.12985075 0.10465831 0.04935234 0.02776379\n",
      " 0.02321986 0.0203003  0.01599935 0.01152682 0.00960474 0.00741418\n",
      " 0.00596997 0.00499894 0.00418793 0.00367994 0.00278125 0.00261061\n",
      " 0.00224297 0.00155469 0.00146367 0.00131605 0.00113498 0.00098276\n",
      " 0.00077454 0.00068223]\n",
      "0.995115886419132\n",
      "[31.27006305 18.30568897 17.43177944 15.64971247 10.74665605  8.06044245\n",
      "  7.37138773  6.89240396  6.11886236  5.19366949  4.74091542  4.16534637\n",
      "  3.73770861  3.42025327  3.13053784  2.9345375   2.55116983  2.47166977\n",
      "  2.29102999  1.9073978   1.85072111  1.75491446  1.62972139  1.51650563\n",
      "  1.34629867  1.26352575]\n",
      "Input shape after PCA: (370, 26)\n"
     ]
    }
   ],
   "source": [
    "from elasticnet.prepare_input import x_main, y_main\n",
    "x_main('input_config.json', load_PCA=False, save_PCA=True)\n",
    "y_main('input_config.json')"
   ]
  },
  {
   "cell_type": "markdown",
   "id": "ab44107f-20f8-4224-bfd2-921c14b7bb87",
   "metadata": {},
   "source": [
    "Explain `input_config.json`: https://github.com/jzhang-github/elasticnet?tab=readme-ov-file#prepare-configurations-files"
   ]
  },
  {
   "cell_type": "markdown",
   "id": "25d21e4e-0aba-42a4-a008-81e2b6d6d4e0",
   "metadata": {},
   "source": [
    "#### The following files are generated:\n",
    "- `x_data_after_pca.txt`\n",
    "- `y_data.txt`\n",
    "- `x_data_init.txt`\n",
    "\n",
    "The PCA model will be saved to `checkpoint`, including\n",
    "- `pca_model.joblib`\n",
    "- `scale_range.json`\n",
    "- `scale_range_1.json`\n",
    "These files will be used when predict compositions."
   ]
  },
  {
   "cell_type": "markdown",
   "id": "0ead8a65-da34-45a6-b84d-1f4ad4b6ef9f",
   "metadata": {},
   "source": [
    "### 1.2 Fit a model"
   ]
  },
  {
   "cell_type": "code",
   "execution_count": 8,
   "id": "b460ac7b-c144-4f1b-af4f-1fe36fc40043",
   "metadata": {},
   "outputs": [
    {
     "name": "stdout",
     "output_type": "stream",
     "text": [
      "Parent process 3696.\n",
      "[<Process name='Process-6' pid=8460 parent=3696 started>, <Process name='Process-7' pid=11728 parent=3696 started>, <Process name='Process-8' pid=20232 parent=3696 started>, <Process name='Process-9' pid=11600 parent=3696 started>, <Process name='Process-10' pid=27924 parent=3696 started>]\n",
      "All subprocesses done.\n",
      "total_time 198.1782214641571 s\n"
     ]
    }
   ],
   "source": [
    "from elasticnet.ann import CV_ML_RUN, load_and_pred\n",
    "CV_ML_RUN('train.json')"
   ]
  },
  {
   "cell_type": "markdown",
   "id": "4a8fb73d-8e11-44f1-8604-650ad23e8e4e",
   "metadata": {},
   "source": [
    "Five `TensorFlow` models will be saved to the `checkpoint/cp.ckpt`"
   ]
  },
  {
   "cell_type": "markdown",
   "id": "47ec4fc7-fa34-449e-9845-f8fdfc4e996d",
   "metadata": {},
   "source": [
    "- `model_0_dense_layer.model`\n",
    "- `model_1_dense_layer.model`\n",
    "- `model_2_dense_layer.model`\n",
    "- `model_3_dense_layer.model`\n",
    "- `model_4_dense_layer.model`"
   ]
  },
  {
   "cell_type": "markdown",
   "id": "6d83b19e-2040-411f-a523-58bac0759d53",
   "metadata": {},
   "source": [
    "Log files are save into `checkpoint/log`"
   ]
  },
  {
   "cell_type": "markdown",
   "id": "f09c87ed-61b1-4445-967b-f524f18ea854",
   "metadata": {},
   "source": [
    "The outputs can be different if you modified the `train.json` file: https://github.com/jzhang-github/elasticnet?tab=readme-ov-file#prepare-configurations-files"
   ]
  },
  {
   "cell_type": "markdown",
   "id": "c7adbfc0-3156-4376-8747-a2f74e25d767",
   "metadata": {},
   "source": [
    "### 1.3 Predict dataset with the well-trained model"
   ]
  },
  {
   "cell_type": "code",
   "execution_count": 6,
   "id": "59dc9a15-26f1-4e4c-8774-83a7a452c7aa",
   "metadata": {},
   "outputs": [
    {
     "name": "stdout",
     "output_type": "stream",
     "text": [
      "<function load_and_pred at 0x0000023CBE08E8C0>\n"
     ]
    }
   ],
   "source": [
    "from elasticnet.ann import CV_ML_RUN, load_and_pred\n",
    "print(load_and_pred)"
   ]
  },
  {
   "cell_type": "code",
   "execution_count": 7,
   "id": "40c25dca-6990-48db-905e-ae190e8fded1",
   "metadata": {},
   "outputs": [
    {
     "name": "stdout",
     "output_type": "stream",
     "text": [
      "12/12 [==============================] - 0s 1ms/step\n",
      "12/12 [==============================] - 0s 1000us/step\n",
      "12/12 [==============================] - 0s 999us/step\n",
      "12/12 [==============================] - 0s 1ms/step\n",
      "12/12 [==============================] - 0s 1ms/step\n"
     ]
    },
    {
     "data": {
      "text/plain": [
       "(array([[259.85522 , 163.52652 , 404.8326  ,  19.63064 , 522.24493 ,\n",
       "         144.92477 ],\n",
       "        [248.81714 , 166.01578 , 407.15176 ,  21.108316, 512.49335 ,\n",
       "         148.20448 ],\n",
       "        [247.53415 , 155.32661 , 384.8144  ,  18.76974 , 492.4642  ,\n",
       "         140.00359 ],\n",
       "        ...,\n",
       "        [307.14423 , 213.39383 , 519.63965 ,  26.988937, 660.9243  ,\n",
       "         181.70163 ],\n",
       "        [336.77277 , 150.14035 , 395.35626 ,  11.424822, 587.4183  ,\n",
       "         128.14392 ],\n",
       "        [218.65352 , 158.67703 , 382.98904 ,  22.655327, 452.09848 ,\n",
       "         150.01016 ]], dtype=float32),\n",
       " array([[262.88193 , 165.68706 , 410.79645 , ...,  20.348967, 520.84656 ,\n",
       "         145.38643 ],\n",
       "        [247.70154 , 165.32945 , 406.32074 , ...,  22.108263, 513.8532  ,\n",
       "         150.00563 ],\n",
       "        [248.14117 , 156.90744 , 388.90515 , ...,  20.438591, 500.7315  ,\n",
       "         143.07138 ],\n",
       "        ...,\n",
       "        [305.17435 , 209.28508 , 511.96225 , ...,  28.552065, 671.6708  ,\n",
       "         185.74976 ],\n",
       "        [349.44748 , 146.63481 , 391.96124 , ...,  12.081453, 573.0308  ,\n",
       "         136.79514 ],\n",
       "        [221.97998 , 160.57642 , 388.8888  , ...,  24.655127, 477.32202 ,\n",
       "         159.41669 ]], dtype=float32))"
      ]
     },
     "execution_count": 7,
     "metadata": {},
     "output_type": "execute_result"
    }
   ],
   "source": [
    "load_and_pred('train.json', 'x_data_after_pca.txt', write_pred_log=True, drop_cols=None)"
   ]
  }
 ],
 "metadata": {
  "kernelspec": {
   "display_name": "Python 3 (ipykernel)",
   "language": "python",
   "name": "python3"
  },
  "language_info": {
   "codemirror_mode": {
    "name": "ipython",
    "version": 3
   },
   "file_extension": ".py",
   "mimetype": "text/x-python",
   "name": "python",
   "nbconvert_exporter": "python",
   "pygments_lexer": "ipython3",
   "version": "3.10.0"
  }
 },
 "nbformat": 4,
 "nbformat_minor": 5
}
