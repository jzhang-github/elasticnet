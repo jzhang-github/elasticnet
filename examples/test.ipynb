{
 "cells": [
  {
   "cell_type": "code",
   "execution_count": 2,
   "id": "a050821c-5ddb-46ff-84da-a4c6a6d42531",
   "metadata": {},
   "outputs": [
    {
     "name": "stdout",
     "output_type": "stream",
     "text": [
      "D:\\Software\\GitHub_repo\\elasticnet\n"
     ]
    }
   ],
   "source": [
    "import os\n",
    "os.chdir('D:\\Software\\GitHub_repo\\elasticnet')\n",
    "print(os.getcwd())"
   ]
  },
  {
   "cell_type": "markdown",
   "id": "ce8f5a94-a6d2-4162-90f4-ada12f759ca7",
   "metadata": {},
   "source": [
    "# Step-by-step instructions"
   ]
  },
  {
   "cell_type": "markdown",
   "id": "1cb768c5-86e8-4dd5-9154-66a4846a5b9b",
   "metadata": {},
   "source": [
    "Installation: https://github.com/jzhang-github/elasticnet?tab=readme-ov-file#installation"
   ]
  },
  {
   "cell_type": "markdown",
   "id": "b770ef06-9c00-4483-a35a-9c203b809a25",
   "metadata": {},
   "source": [
    "## 1. Train a new model from scratch"
   ]
  },
  {
   "cell_type": "markdown",
   "id": "3a02fea7-b068-4960-8ad7-eef169116fea",
   "metadata": {},
   "source": [
    "### 1.1 Prepare dataset"
   ]
  },
  {
   "cell_type": "code",
   "execution_count": 3,
   "id": "0945a0a9-ccb7-427b-a86d-c8c98b727af9",
   "metadata": {
    "scrolled": true
   },
   "outputs": [
    {
     "name": "stdout",
     "output_type": "stream",
     "text": [
      "[2.64991014 0.90812533 0.82348763 0.66372222 0.3129827  0.17607245\n",
      " 0.14725571 0.12874047 0.10146471 0.07310082 0.06091133 0.04701927\n",
      " 0.03786034 0.03170226 0.02655899 0.02333743 0.01763812 0.01655597\n",
      " 0.01422444 0.00985953 0.0092823  0.00834614 0.00719781 0.00623249\n",
      " 0.00491198 0.00432655]\n",
      "[0.41784819 0.14319675 0.12985075 0.10465831 0.04935234 0.02776379\n",
      " 0.02321986 0.0203003  0.01599935 0.01152682 0.00960474 0.00741418\n",
      " 0.00596997 0.00499894 0.00418793 0.00367994 0.00278125 0.00261061\n",
      " 0.00224297 0.00155469 0.00146367 0.00131605 0.00113498 0.00098276\n",
      " 0.00077454 0.00068223]\n",
      "0.995115886419132\n",
      "[31.27006305 18.30568897 17.43177944 15.64971247 10.74665605  8.06044245\n",
      "  7.37138773  6.89240396  6.11886236  5.19366949  4.74091542  4.16534637\n",
      "  3.73770861  3.42025327  3.13053784  2.9345375   2.55116983  2.47166977\n",
      "  2.29102999  1.9073978   1.85072111  1.75491446  1.62972139  1.51650563\n",
      "  1.34629867  1.26352575]\n",
      "Input shape after PCA: (370, 26)\n"
     ]
    }
   ],
   "source": [
    "from elasticnet.prepare_input import x_main, y_main\n",
    "x_main('input_config.json', load_PCA=False, save_PCA=True)\n",
    "y_main('input_config.json')"
   ]
  },
  {
   "cell_type": "markdown",
   "id": "ab44107f-20f8-4224-bfd2-921c14b7bb87",
   "metadata": {},
   "source": [
    "Explain `input_config.json`: https://github.com/jzhang-github/elasticnet?tab=readme-ov-file#prepare-configurations-files"
   ]
  },
  {
   "cell_type": "markdown",
   "id": "25d21e4e-0aba-42a4-a008-81e2b6d6d4e0",
   "metadata": {},
   "source": [
    "#### The following files are generated:\n",
    "- `x_data_after_pca.txt`\n",
    "- `y_data.txt`\n",
    "- `x_data_init.txt`\n",
    "\n",
    "The PCA model will be saved to `checkpoint`, including\n",
    "- `pca_model.joblib`\n",
    "- `scale_range.json`\n",
    "- `scale_range_1.json`\n",
    "These files will be used when predict compositions."
   ]
  },
  {
   "cell_type": "markdown",
   "id": "0ead8a65-da34-45a6-b84d-1f4ad4b6ef9f",
   "metadata": {},
   "source": [
    "### 1.2 Fit a model"
   ]
  },
  {
   "cell_type": "code",
   "execution_count": 6,
   "id": "b460ac7b-c144-4f1b-af4f-1fe36fc40043",
   "metadata": {},
   "outputs": [
    {
     "name": "stdout",
     "output_type": "stream",
     "text": [
      "Parent process 16284.\n",
      "[<Process name='Process-1' pid=14880 parent=16284 stopped exitcode=0>, <Process name='Process-2' pid=24428 parent=16284 stopped exitcode=0>, <Process name='Process-3' pid=22832 parent=16284 stopped exitcode=0>, <Process name='Process-4' pid=18324 parent=16284 stopped exitcode=0>, <Process name='Process-5' pid=1652 parent=16284 started>]\n",
      "All subprocesses done.\n",
      "total_time 19.94123148918152 s\n"
     ]
    }
   ],
   "source": [
    "from elasticnet.ann import CV_ML_RUN, load_and_pred\n",
    "CV_ML_RUN('train.json')"
   ]
  },
  {
   "cell_type": "markdown",
   "id": "1e8686e0-72ba-43b4-ac04-59f2b458fa06",
   "metadata": {},
   "source": [
    "(Two epochs for a test)"
   ]
  },
  {
   "cell_type": "markdown",
   "id": "4a8fb73d-8e11-44f1-8604-650ad23e8e4e",
   "metadata": {},
   "source": [
    "Five `TensorFlow` models will be saved to the `checkpoint/cp.ckpt`"
   ]
  },
  {
   "cell_type": "markdown",
   "id": "47ec4fc7-fa34-449e-9845-f8fdfc4e996d",
   "metadata": {},
   "source": [
    "- `model_0_dense_layer.model`\n",
    "- `model_1_dense_layer.model`\n",
    "- `model_2_dense_layer.model`\n",
    "- `model_3_dense_layer.model`\n",
    "- `model_4_dense_layer.model`"
   ]
  },
  {
   "cell_type": "markdown",
   "id": "6d83b19e-2040-411f-a523-58bac0759d53",
   "metadata": {},
   "source": [
    "Log files are save into `checkpoint/log`"
   ]
  },
  {
   "cell_type": "markdown",
   "id": "f09c87ed-61b1-4445-967b-f524f18ea854",
   "metadata": {},
   "source": [
    "The outputs can be different if you modified the `train.json` file: https://github.com/jzhang-github/elasticnet?tab=readme-ov-file#prepare-configurations-files"
   ]
  },
  {
   "cell_type": "markdown",
   "id": "c7adbfc0-3156-4376-8747-a2f74e25d767",
   "metadata": {},
   "source": [
    "### 1.3 Predict dataset with the well-trained model"
   ]
  },
  {
   "cell_type": "code",
   "execution_count": 6,
   "id": "40c25dca-6990-48db-905e-ae190e8fded1",
   "metadata": {},
   "outputs": [
    {
     "name": "stdout",
     "output_type": "stream",
     "text": [
      "WARNING:tensorflow:SavedModel saved prior to TF 2.5 detected when loading Keras model. Please ensure that you are saving the model with model.save() or tf.keras.models.save_model(), *NOT* tf.saved_model.save(). To confirm, there should be a file named \"keras_metadata.pb\" in the SavedModel directory.\n"
     ]
    },
    {
     "ename": "ValueError",
     "evalue": "in user code:\n\n    File \"C:\\Users\\18326\\.conda\\envs\\ElasticNet\\lib\\site-packages\\keras\\engine\\training.py\", line 2041, in predict_function  *\n        return step_function(self, iterator)\n    File \"C:\\Users\\18326\\.conda\\envs\\ElasticNet\\lib\\site-packages\\keras\\engine\\training.py\", line 2027, in step_function  **\n        outputs = model.distribute_strategy.run(run_step, args=(data,))\n    File \"C:\\Users\\18326\\.conda\\envs\\ElasticNet\\lib\\site-packages\\keras\\engine\\training.py\", line 2015, in run_step  **\n        outputs = model.predict_step(data)\n    File \"C:\\Users\\18326\\.conda\\envs\\ElasticNet\\lib\\site-packages\\keras\\engine\\training.py\", line 1983, in predict_step\n        return self(x, training=False)\n    File \"C:\\Users\\18326\\.conda\\envs\\ElasticNet\\lib\\site-packages\\keras\\utils\\traceback_utils.py\", line 70, in error_handler\n        raise e.with_traceback(filtered_tb) from None\n    File \"C:\\Users\\18326\\.conda\\envs\\ElasticNet\\lib\\site-packages\\keras\\engine\\input_spec.py\", line 295, in assert_input_compatibility\n        raise ValueError(\n\n    ValueError: Input 0 of layer \"sequential\" is incompatible with the layer: expected shape=(None, 24), found shape=(None, 26)\n",
     "output_type": "error",
     "traceback": [
      "\u001b[1;31m---------------------------------------------------------------------------\u001b[0m",
      "\u001b[1;31mValueError\u001b[0m                                Traceback (most recent call last)",
      "Cell \u001b[1;32mIn[6], line 1\u001b[0m\n\u001b[1;32m----> 1\u001b[0m \u001b[43mload_and_pred\u001b[49m\u001b[43m(\u001b[49m\u001b[38;5;124;43m'\u001b[39;49m\u001b[38;5;124;43mtrain.json\u001b[39;49m\u001b[38;5;124;43m'\u001b[39;49m\u001b[43m,\u001b[49m\u001b[43m \u001b[49m\u001b[38;5;124;43m'\u001b[39;49m\u001b[38;5;124;43mx_data_after_pca.txt\u001b[39;49m\u001b[38;5;124;43m'\u001b[39;49m\u001b[43m,\u001b[49m\u001b[43m \u001b[49m\u001b[43mwrite_pred_log\u001b[49m\u001b[38;5;241;43m=\u001b[39;49m\u001b[38;5;28;43;01mTrue\u001b[39;49;00m\u001b[43m,\u001b[49m\u001b[43m \u001b[49m\u001b[43mdrop_cols\u001b[49m\u001b[38;5;241;43m=\u001b[39;49m\u001b[38;5;28;43;01mNone\u001b[39;49;00m\u001b[43m)\u001b[49m\n",
      "File \u001b[1;32mD:\\Software\\GitHub_repo\\elasticnet\\elasticnet\\ann.py:207\u001b[0m, in \u001b[0;36mload_and_pred\u001b[1;34m(config, file_name_of_x_data, write_pred_log, drop_cols)\u001b[0m\n\u001b[0;32m    205\u001b[0m     model_name \u001b[38;5;241m=\u001b[39m \u001b[38;5;124mf\u001b[39m\u001b[38;5;124m'\u001b[39m\u001b[38;5;132;01m{\u001b[39;00mconfig[\u001b[38;5;124m\"\u001b[39m\u001b[38;5;124mModel_save_path\u001b[39m\u001b[38;5;124m\"\u001b[39m]\u001b[38;5;132;01m}\u001b[39;00m\u001b[38;5;124m/model_\u001b[39m\u001b[38;5;132;01m{\u001b[39;00mi\u001b[38;5;132;01m}\u001b[39;00m\u001b[38;5;124m_dense_layer.model\u001b[39m\u001b[38;5;124m'\u001b[39m\n\u001b[0;32m    206\u001b[0m     new_model \u001b[38;5;241m=\u001b[39m tf\u001b[38;5;241m.\u001b[39mkeras\u001b[38;5;241m.\u001b[39mmodels\u001b[38;5;241m.\u001b[39mload_model(model_name)\n\u001b[1;32m--> 207\u001b[0m     predictions \u001b[38;5;241m=\u001b[39m \u001b[43mnew_model\u001b[49m\u001b[38;5;241;43m.\u001b[39;49m\u001b[43mpredict\u001b[49m\u001b[43m(\u001b[49m\u001b[43m[\u001b[49m\u001b[43mx_pred\u001b[49m\u001b[43m]\u001b[49m\u001b[43m)\u001b[49m\n\u001b[0;32m    208\u001b[0m     predictions_all\u001b[38;5;241m.\u001b[39mappend(predictions)\n\u001b[0;32m    209\u001b[0m predictions_all \u001b[38;5;241m=\u001b[39m np\u001b[38;5;241m.\u001b[39marray(predictions_all)\n",
      "File \u001b[1;32m~\\.conda\\envs\\ElasticNet\\lib\\site-packages\\keras\\utils\\traceback_utils.py:70\u001b[0m, in \u001b[0;36mfilter_traceback.<locals>.error_handler\u001b[1;34m(*args, **kwargs)\u001b[0m\n\u001b[0;32m     67\u001b[0m     filtered_tb \u001b[38;5;241m=\u001b[39m _process_traceback_frames(e\u001b[38;5;241m.\u001b[39m__traceback__)\n\u001b[0;32m     68\u001b[0m     \u001b[38;5;66;03m# To get the full stack trace, call:\u001b[39;00m\n\u001b[0;32m     69\u001b[0m     \u001b[38;5;66;03m# `tf.debugging.disable_traceback_filtering()`\u001b[39;00m\n\u001b[1;32m---> 70\u001b[0m     \u001b[38;5;28;01mraise\u001b[39;00m e\u001b[38;5;241m.\u001b[39mwith_traceback(filtered_tb) \u001b[38;5;28;01mfrom\u001b[39;00m \u001b[38;5;28;01mNone\u001b[39;00m\n\u001b[0;32m     71\u001b[0m \u001b[38;5;28;01mfinally\u001b[39;00m:\n\u001b[0;32m     72\u001b[0m     \u001b[38;5;28;01mdel\u001b[39;00m filtered_tb\n",
      "File \u001b[1;32m~\\AppData\\Local\\Temp\\__autograph_generated_file938jzobd.py:15\u001b[0m, in \u001b[0;36mouter_factory.<locals>.inner_factory.<locals>.tf__predict_function\u001b[1;34m(iterator)\u001b[0m\n\u001b[0;32m     13\u001b[0m \u001b[38;5;28;01mtry\u001b[39;00m:\n\u001b[0;32m     14\u001b[0m     do_return \u001b[38;5;241m=\u001b[39m \u001b[38;5;28;01mTrue\u001b[39;00m\n\u001b[1;32m---> 15\u001b[0m     retval_ \u001b[38;5;241m=\u001b[39m ag__\u001b[38;5;241m.\u001b[39mconverted_call(ag__\u001b[38;5;241m.\u001b[39mld(step_function), (ag__\u001b[38;5;241m.\u001b[39mld(\u001b[38;5;28mself\u001b[39m), ag__\u001b[38;5;241m.\u001b[39mld(iterator)), \u001b[38;5;28;01mNone\u001b[39;00m, fscope)\n\u001b[0;32m     16\u001b[0m \u001b[38;5;28;01mexcept\u001b[39;00m:\n\u001b[0;32m     17\u001b[0m     do_return \u001b[38;5;241m=\u001b[39m \u001b[38;5;28;01mFalse\u001b[39;00m\n",
      "\u001b[1;31mValueError\u001b[0m: in user code:\n\n    File \"C:\\Users\\18326\\.conda\\envs\\ElasticNet\\lib\\site-packages\\keras\\engine\\training.py\", line 2041, in predict_function  *\n        return step_function(self, iterator)\n    File \"C:\\Users\\18326\\.conda\\envs\\ElasticNet\\lib\\site-packages\\keras\\engine\\training.py\", line 2027, in step_function  **\n        outputs = model.distribute_strategy.run(run_step, args=(data,))\n    File \"C:\\Users\\18326\\.conda\\envs\\ElasticNet\\lib\\site-packages\\keras\\engine\\training.py\", line 2015, in run_step  **\n        outputs = model.predict_step(data)\n    File \"C:\\Users\\18326\\.conda\\envs\\ElasticNet\\lib\\site-packages\\keras\\engine\\training.py\", line 1983, in predict_step\n        return self(x, training=False)\n    File \"C:\\Users\\18326\\.conda\\envs\\ElasticNet\\lib\\site-packages\\keras\\utils\\traceback_utils.py\", line 70, in error_handler\n        raise e.with_traceback(filtered_tb) from None\n    File \"C:\\Users\\18326\\.conda\\envs\\ElasticNet\\lib\\site-packages\\keras\\engine\\input_spec.py\", line 295, in assert_input_compatibility\n        raise ValueError(\n\n    ValueError: Input 0 of layer \"sequential\" is incompatible with the layer: expected shape=(None, 24), found shape=(None, 26)\n"
     ]
    }
   ],
   "source": [
    "load_and_pred('train.json', 'x_data_after_pca.txt', write_pred_log=True, drop_cols=None)"
   ]
  },
  {
   "cell_type": "code",
   "execution_count": null,
   "id": "dc5af98d-aad0-4f2d-9a1e-d2dbc79e7b4a",
   "metadata": {},
   "outputs": [],
   "source": []
  }
 ],
 "metadata": {
  "kernelspec": {
   "display_name": "Python 3 (ipykernel)",
   "language": "python",
   "name": "python3"
  },
  "language_info": {
   "codemirror_mode": {
    "name": "ipython",
    "version": 3
   },
   "file_extension": ".py",
   "mimetype": "text/x-python",
   "name": "python",
   "nbconvert_exporter": "python",
   "pygments_lexer": "ipython3",
   "version": "3.10.0"
  }
 },
 "nbformat": 4,
 "nbformat_minor": 5
}
