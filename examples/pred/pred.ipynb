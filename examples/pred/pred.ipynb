{
 "cells": [
  {
   "cell_type": "markdown",
   "id": "956201af-2092-4a17-811a-e0d7644026f0",
   "metadata": {},
   "source": [
    "# Predict "
   ]
  },
  {
   "cell_type": "markdown",
   "id": "68993ce1-d00e-4f7e-abed-a2067bcdadc8",
   "metadata": {},
   "source": [
    "## 1. Import modules"
   ]
  },
  {
   "cell_type": "code",
   "execution_count": 2,
   "id": "419971be-af76-440a-b4a3-5a2cb1865de7",
   "metadata": {},
   "outputs": [],
   "source": [
    "from elasticnet import load_and_pred\n",
    "import numpy as np"
   ]
  },
  {
   "cell_type": "markdown",
   "id": "01b3efd3-d6fe-412b-a3a3-99bad8bf0849",
   "metadata": {},
   "source": [
    "## 2. Load data"
   ]
  },
  {
   "cell_type": "code",
   "execution_count": 15,
   "id": "032a1e21-735e-4076-b7d2-bee0cdc8b3ec",
   "metadata": {},
   "outputs": [
    {
     "name": "stdout",
     "output_type": "stream",
     "text": [
      "[[-0.45791868 -2.14292484  0.84001504 -1.73691166 -2.00859546 -1.89117743\n",
      "  -1.9411552  -2.42321157]\n",
      " [-3.1984671  -1.14821148  2.24898412 -2.32883133 -1.41597479 -2.40117665\n",
      "   1.87853729 -2.42321157]\n",
      " [-0.45791868 -2.14292484  1.77932776 -2.44736594 -2.00859546 -2.50317649\n",
      "   1.87853729 -2.42321157]\n",
      " [ 2.51078039  0.54108028 -2.44757946  0.74905049 -0.08257829  0.25081929\n",
      "  -1.9411552  -2.42321157]\n",
      " [-0.45791868 -2.14292484  0.21396312 -1.26352661 -2.00859546 -1.48317805\n",
      "   1.87853729 -2.42321157]\n",
      " [-1.82819289 -0.60920763  1.54449958 -1.59652851 -0.82335412 -1.68717774\n",
      "  -0.03130895 -0.79211519]\n",
      " [-0.45791868 -2.14292484  1.3096714  -1.78939839 -2.00859546 -1.89117743\n",
      "  -0.03130895 -0.79211519]\n",
      " [ 1.02643085  0.29670434 -0.80378221  0.4223269  -0.08257829  0.25081929\n",
      "  -1.9411552  -0.79211519]\n",
      " [-0.45791868 -2.14292484  0.52698908 -1.42400037 -2.00859546 -1.48317805\n",
      "  -0.03130895 -0.79211519]\n",
      " [ 0.91235552  0.09363137 -1.03861039  0.76813657 -0.23073346  0.55681882\n",
      "  -1.9411552  -0.79211519]]\n"
     ]
    }
   ],
   "source": [
    "# x_data = np.load('x_data.txt')\n",
    "with open('x_data.txt', 'r') as f:\n",
    "    x_data = f.readlines()\n",
    "x_data = [x.split() for x in x_data]\n",
    "# for x in x_data:\n",
    "#    print(len(x))\n",
    "x_data = np.array(x_data, dtype=float)\n",
    "print(x_data[0:10])"
   ]
  },
  {
   "cell_type": "markdown",
   "id": "c4552333-1c42-4f64-8ced-92ecc1cc9ea6",
   "metadata": {},
   "source": [
    "## 3. Select randomly and predict"
   ]
  },
  {
   "cell_type": "code",
   "execution_count": 18,
   "id": "0dfbdd86-ce30-4a62-a45f-820501837657",
   "metadata": {},
   "outputs": [
    {
     "ename": "OSError",
     "evalue": "No file or directory found at ./checkpoint/cp.ckpt/model_0_dense_layer.model",
     "output_type": "error",
     "traceback": [
      "\u001b[1;31m---------------------------------------------------------------------------\u001b[0m",
      "\u001b[1;31mOSError\u001b[0m                                   Traceback (most recent call last)",
      "Cell \u001b[1;32mIn[18], line 4\u001b[0m\n\u001b[0;32m      2\u001b[0m selected_x_data \u001b[38;5;241m=\u001b[39m x_data[selected_x_data_i]\n\u001b[0;32m      3\u001b[0m np\u001b[38;5;241m.\u001b[39msavetxt(\u001b[38;5;124m'\u001b[39m\u001b[38;5;124mselected_x_data.txt\u001b[39m\u001b[38;5;124m'\u001b[39m, selected_x_data, fmt\u001b[38;5;241m=\u001b[39m\u001b[38;5;124m'\u001b[39m\u001b[38;5;132;01m%.8f\u001b[39;00m\u001b[38;5;124m'\u001b[39m)\n\u001b[1;32m----> 4\u001b[0m y_pred_mean, y_pred_all \u001b[38;5;241m=\u001b[39m \u001b[43mload_and_pred\u001b[49m\u001b[43m(\u001b[49m\u001b[38;5;124;43m'\u001b[39;49m\u001b[38;5;124;43mtrain.json\u001b[39;49m\u001b[38;5;124;43m'\u001b[39;49m\u001b[43m,\u001b[49m\u001b[43m \u001b[49m\u001b[38;5;124;43m'\u001b[39;49m\u001b[38;5;124;43mselected_x_data.txt\u001b[39;49m\u001b[38;5;124;43m'\u001b[39;49m\u001b[43m)\u001b[49m\n\u001b[0;32m      5\u001b[0m \u001b[38;5;28mprint\u001b[39m(y_pred_mean)\n",
      "File \u001b[1;32mD:\\Software\\Miniconda\\envs\\ElasticNet\\lib\\site-packages\\elasticnet\\ann.py:206\u001b[0m, in \u001b[0;36mload_and_pred\u001b[1;34m(config, file_name_of_x_data, write_pred_log, drop_cols)\u001b[0m\n\u001b[0;32m    204\u001b[0m \u001b[38;5;28;01mfor\u001b[39;00m i \u001b[38;5;129;01min\u001b[39;00m \u001b[38;5;28mrange\u001b[39m(config[\u001b[38;5;124m\"\u001b[39m\u001b[38;5;124mNumber_of_fold\u001b[39m\u001b[38;5;124m\"\u001b[39m]):\n\u001b[0;32m    205\u001b[0m     model_name \u001b[38;5;241m=\u001b[39m \u001b[38;5;124mf\u001b[39m\u001b[38;5;124m'\u001b[39m\u001b[38;5;132;01m{\u001b[39;00mconfig[\u001b[38;5;124m\"\u001b[39m\u001b[38;5;124mModel_save_path\u001b[39m\u001b[38;5;124m\"\u001b[39m]\u001b[38;5;132;01m}\u001b[39;00m\u001b[38;5;124m/model_\u001b[39m\u001b[38;5;132;01m{\u001b[39;00mi\u001b[38;5;132;01m}\u001b[39;00m\u001b[38;5;124m_dense_layer.model\u001b[39m\u001b[38;5;124m'\u001b[39m\n\u001b[1;32m--> 206\u001b[0m     new_model \u001b[38;5;241m=\u001b[39m \u001b[43mtf\u001b[49m\u001b[38;5;241;43m.\u001b[39;49m\u001b[43mkeras\u001b[49m\u001b[38;5;241;43m.\u001b[39;49m\u001b[43mmodels\u001b[49m\u001b[38;5;241;43m.\u001b[39;49m\u001b[43mload_model\u001b[49m\u001b[43m(\u001b[49m\u001b[43mmodel_name\u001b[49m\u001b[43m)\u001b[49m\n\u001b[0;32m    207\u001b[0m     predictions \u001b[38;5;241m=\u001b[39m new_model\u001b[38;5;241m.\u001b[39mpredict([x_pred])\n\u001b[0;32m    208\u001b[0m     predictions_all\u001b[38;5;241m.\u001b[39mappend(predictions)\n",
      "File \u001b[1;32mD:\\Software\\Miniconda\\envs\\ElasticNet\\lib\\site-packages\\keras\\utils\\traceback_utils.py:70\u001b[0m, in \u001b[0;36mfilter_traceback.<locals>.error_handler\u001b[1;34m(*args, **kwargs)\u001b[0m\n\u001b[0;32m     67\u001b[0m     filtered_tb \u001b[38;5;241m=\u001b[39m _process_traceback_frames(e\u001b[38;5;241m.\u001b[39m__traceback__)\n\u001b[0;32m     68\u001b[0m     \u001b[38;5;66;03m# To get the full stack trace, call:\u001b[39;00m\n\u001b[0;32m     69\u001b[0m     \u001b[38;5;66;03m# `tf.debugging.disable_traceback_filtering()`\u001b[39;00m\n\u001b[1;32m---> 70\u001b[0m     \u001b[38;5;28;01mraise\u001b[39;00m e\u001b[38;5;241m.\u001b[39mwith_traceback(filtered_tb) \u001b[38;5;28;01mfrom\u001b[39;00m \u001b[38;5;28;01mNone\u001b[39;00m\n\u001b[0;32m     71\u001b[0m \u001b[38;5;28;01mfinally\u001b[39;00m:\n\u001b[0;32m     72\u001b[0m     \u001b[38;5;28;01mdel\u001b[39;00m filtered_tb\n",
      "File \u001b[1;32mD:\\Software\\Miniconda\\envs\\ElasticNet\\lib\\site-packages\\keras\\saving\\save.py:226\u001b[0m, in \u001b[0;36mload_model\u001b[1;34m(filepath, custom_objects, compile, options)\u001b[0m\n\u001b[0;32m    224\u001b[0m \u001b[38;5;28;01mif\u001b[39;00m \u001b[38;5;28misinstance\u001b[39m(filepath_str, \u001b[38;5;28mstr\u001b[39m):\n\u001b[0;32m    225\u001b[0m     \u001b[38;5;28;01mif\u001b[39;00m \u001b[38;5;129;01mnot\u001b[39;00m tf\u001b[38;5;241m.\u001b[39mio\u001b[38;5;241m.\u001b[39mgfile\u001b[38;5;241m.\u001b[39mexists(filepath_str):\n\u001b[1;32m--> 226\u001b[0m         \u001b[38;5;28;01mraise\u001b[39;00m \u001b[38;5;167;01mIOError\u001b[39;00m(\n\u001b[0;32m    227\u001b[0m             \u001b[38;5;124mf\u001b[39m\u001b[38;5;124m\"\u001b[39m\u001b[38;5;124mNo file or directory found at \u001b[39m\u001b[38;5;132;01m{\u001b[39;00mfilepath_str\u001b[38;5;132;01m}\u001b[39;00m\u001b[38;5;124m\"\u001b[39m\n\u001b[0;32m    228\u001b[0m         )\n\u001b[0;32m    230\u001b[0m     \u001b[38;5;28;01mif\u001b[39;00m tf\u001b[38;5;241m.\u001b[39mio\u001b[38;5;241m.\u001b[39mgfile\u001b[38;5;241m.\u001b[39misdir(filepath_str):\n\u001b[0;32m    231\u001b[0m         \u001b[38;5;28;01mreturn\u001b[39;00m saved_model_load\u001b[38;5;241m.\u001b[39mload(\n\u001b[0;32m    232\u001b[0m             filepath_str, \u001b[38;5;28mcompile\u001b[39m, options\n\u001b[0;32m    233\u001b[0m         )\n",
      "\u001b[1;31mOSError\u001b[0m: No file or directory found at ./checkpoint/cp.ckpt/model_0_dense_layer.model"
     ]
    }
   ],
   "source": [
    "selected_x_data_i = np.random.choice(len(x_data), size=int(0.8*len(x_data)), replace=False)\n",
    "selected_x_data = x_data[selected_x_data_i]\n",
    "np.savetxt('selected_x_data.txt', selected_x_data, fmt='%.8f')\n",
    "y_pred_mean, y_pred_all = load_and_pred('train.json', 'selected_x_data.txt')\n",
    "print(y_pred_mean)"
   ]
  },
  {
   "cell_type": "markdown",
   "id": "3e597abb-ce37-49a0-a9e0-b4193a66cfa7",
   "metadata": {},
   "source": [
    "# 注：\n",
    "- 缺少已训练好的模型文件：比如`checkpoint`文件夹。需要复制到当前目录下。\n",
    "- 使用训练时的`train.json`文件替换当前文件夹下的同名文件。\n",
    "- 成功预测后，预测结果会被打印，并保存在`./checkpoint/pred`文件夹中。其中`.`代表当前文件夹。"
   ]
  }
 ],
 "metadata": {
  "kernelspec": {
   "display_name": "Python 3 (ipykernel)",
   "language": "python",
   "name": "python3"
  },
  "language_info": {
   "codemirror_mode": {
    "name": "ipython",
    "version": 3
   },
   "file_extension": ".py",
   "mimetype": "text/x-python",
   "name": "python",
   "nbconvert_exporter": "python",
   "pygments_lexer": "ipython3",
   "version": "3.10.0"
  }
 },
 "nbformat": 4,
 "nbformat_minor": 5
}
