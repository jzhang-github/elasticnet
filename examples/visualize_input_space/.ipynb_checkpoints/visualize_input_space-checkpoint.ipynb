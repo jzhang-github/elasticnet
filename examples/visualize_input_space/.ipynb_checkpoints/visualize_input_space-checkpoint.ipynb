{
 "cells": [
  {
   "cell_type": "markdown",
   "id": "168fb664-84b1-4a1e-8520-62c53cb37bfa",
   "metadata": {},
   "source": [
    "# Visualize input space"
   ]
  },
  {
   "cell_type": "markdown",
   "id": "d507deb5-e42c-4e99-8372-e8b695a40334",
   "metadata": {},
   "source": [
    "## 1. Prepare dataset and denpendent files.\n",
    "- `input_config.json`: This file controls how to generate input data.\n",
    "- `MTMC_precursors.csv`: This file contains properties of binary carbides.\n",
    "- `MTMC_properties.CSV`: This is the equiatomic dataset."
   ]
  },
  {
   "cell_type": "markdown",
   "id": "50e9c1c7-e8ec-4f54-9e02-d7125075a2a4",
   "metadata": {},
   "source": [
    "## 2. Import input generator"
   ]
  },
  {
   "cell_type": "code",
   "execution_count": 1,
   "id": "689d598a-f61e-40a7-9db9-1420a1cedd28",
   "metadata": {},
   "outputs": [],
   "source": [
    "from elasticnet import x_main\n",
    "from elasticnet.lib import HecFeatureGenerator, HecFeatureParser"
   ]
  },
  {
   "cell_type": "markdown",
   "id": "432f3c1f-1273-4ada-8b02-bfc176d54b8f",
   "metadata": {},
   "source": [
    "## 3. Generate chemical formulas with equal molar ratios"
   ]
  },
  {
   "cell_type": "code",
   "execution_count": 2,
   "id": "5cfd1ca4-0c60-45ca-ac60-7e264b532513",
   "metadata": {},
   "outputs": [],
   "source": [
    "from itertools import combinations\n",
    "import pymatgen\n",
    "from pymatgen.core.ion import Ion\n",
    "import numpy as np\n",
    "\n",
    "def sort_formula(formula):\n",
    "    if isinstance(formula, str):\n",
    "        comp = Ion.from_formula(formula)\n",
    "        elements = comp.elements\n",
    "        ele_name = [x.name for x in elements]\n",
    "    if isinstance(formula, (list, tuple)):\n",
    "        ele_name = list(formula)\n",
    "    ele_name.sort()\n",
    "    comp_name = ''.join(ele_name)\n",
    "    return comp_name\n",
    "\n",
    "elements = ['Ti', 'Zr', 'Hf', 'V', 'Nb', 'Ta', 'Cr', 'Mo', 'W']\n",
    "outputs = []\n",
    "for number_of_components in [1,2,3,4,5]:\n",
    "    tmp = list(combinations(elements, number_of_components))\n",
    "\n",
    "outputs.extend([sort_formula(x) for x in tmp])\n",
    "\n",
    "np.savetxt('formulas.txt', outputs, fmt='%s')"
   ]
  },
  {
   "cell_type": "markdown",
   "id": "d9d46cf2-351f-4af2-89cc-4d3ad9c51bff",
   "metadata": {},
   "source": [
    "## 4. Generate chemical formulas with non-equal molar ratios"
   ]
  },
  {
   "cell_type": "code",
   "execution_count": 3,
   "id": "8dc24da0-18f7-47df-906e-7c321e70c644",
   "metadata": {},
   "outputs": [
    {
     "name": "stdout",
     "output_type": "stream",
     "text": [
      "['Mo1Hf4W6C11', 'Mo1Hf4Ta1W5C11', 'Mo1Hf4Ta2W4C11', 'Mo1Hf4Ta3W3C11', 'Mo1Hf4Ta4W2C11', 'Mo1Hf4Ta5W1C11', 'Mo1Hf5W5C11', 'Mo1Hf5Ta1W4C11', 'Mo1Hf5Ta2W3C11', 'Mo1Hf5Ta3W2C11', 'Mo1Hf5Ta4W1C11', 'Mo1Hf6W4C11', 'Mo1Hf6Ta1W3C11', 'Mo1Hf6Ta2W2C11', 'Mo1Hf6Ta3W1C11', 'Mo1Hf7W3C11', 'Mo1Hf7Ta1W2C11', 'Mo1Hf7Ta2W1C11', 'Mo1Hf8W2C11', 'Mo1Hf8Ta1W1C11', 'Mo1Hf9W1C11', 'Mo2W9C11', 'Mo2Ta1W8C11', 'Mo2Ta2W7C11', 'Mo2Ta3W6C11', 'Mo2Ta4W5C11', 'Mo2Ta5W4C11', 'Mo2Ta6W3C11', 'Mo2Ta7W2C11', 'Mo2Ta8W1C11', 'Mo2Hf1W8C11', 'Mo2Hf1Ta1W7C11', 'Mo2Hf1Ta2W6C11', 'Mo2Hf1Ta3W5C11', 'Mo2Hf1Ta4W4C11', 'Mo2Hf1Ta5W3C11', 'Mo2Hf1Ta6W2C11', 'Mo2Hf1Ta7W1C11', 'Mo2Hf2W7C11', 'Mo2Hf2Ta1W6C11', 'Mo2Hf2Ta2W5C11', 'Mo2Hf2Ta3W4C11', 'Mo2Hf2Ta4W3C11', 'Mo2Hf2Ta5W2C11', 'Mo2Hf2Ta6W1C11', 'Mo2Hf3W6C11', 'Mo2Hf3Ta1W5C11', 'Mo2Hf3Ta2W4C11', 'Mo2Hf3Ta3W3C11', 'Mo2Hf3Ta4W2C11', 'Mo2Hf3Ta5W1C11', 'Mo2Hf4W5C11', 'Mo2Hf4Ta1W4C11', 'Mo2Hf4Ta2W3C11', 'Mo2Hf4Ta3W2C11', 'Mo2Hf4Ta4W1C11', 'Mo2Hf5W4C11', 'Mo2Hf5Ta1W3C11', 'Mo2Hf5Ta2W2C11', 'Mo2Hf5Ta3W1C11', 'Mo2Hf6W3C11', 'Mo2Hf6Ta1W2C11', 'Mo2Hf6Ta2W1C11', 'Mo2Hf7W2C11', 'Mo2Hf7Ta1W1C11', 'Mo2Hf8W1C11', 'Mo3W8C11', 'Mo3Ta1W7C11', 'Mo3Ta2W6C11', 'Mo3Ta3W5C11', 'Mo3Ta4W4C11', 'Mo3Ta5W3C11', 'Mo3Ta6W2C11', 'Mo3Ta7W1C11', 'Mo3Hf1W7C11', 'Mo3Hf1Ta1W6C11', 'Mo3Hf1Ta2W5C11', 'Mo3Hf1Ta3W4C11', 'Mo3Hf1Ta4W3C11', 'Mo3Hf1Ta5W2C11', 'Mo3Hf1Ta6W1C11', 'Mo3Hf2W6C11', 'Mo3Hf2Ta1W5C11', 'Mo3Hf2Ta2W4C11', 'Mo3Hf2Ta3W3C11', 'Mo3Hf2Ta4W2C11', 'Mo3Hf2Ta5W1C11', 'Mo3Hf3W5C11', 'Mo3Hf3Ta1W4C11', 'Mo3Hf3Ta2W3C11', 'Mo3Hf3Ta3W2C11', 'Mo3Hf3Ta4W1C11', 'Mo3Hf4W4C11', 'Mo3Hf4Ta1W3C11', 'Mo3Hf4Ta2W2C11', 'Mo3Hf4Ta3W1C11', 'Mo3Hf5W3C11', 'Mo3Hf5Ta1W2C11', 'Mo3Hf5Ta2W1C11', 'Mo3Hf6W2C11']\n"
     ]
    }
   ],
   "source": [
    "import numpy as np\n",
    "from elasticnet.lib import get_number_of_components\n",
    "num, formulas = [], []\n",
    "for Ti_c in range(0, 11):\n",
    "    end = 11 - Ti_c\n",
    "    for V_c in range(0, end):\n",
    "        end = 11 - Ti_c - V_c\n",
    "        for Cr_c in range(0, end):\n",
    "            end = 11 - Ti_c - V_c - Cr_c\n",
    "            for Zr_c in range(0, end):\n",
    "                end = 11 - Ti_c - V_c - Cr_c - Zr_c\n",
    "                for Nb_c in range(0, end):\n",
    "                    end = 11 - Ti_c - V_c - Cr_c - Zr_c - Nb_c\n",
    "                    for Mo_c in range(0, end):\n",
    "                        end = 11 - Ti_c - V_c - Cr_c - Zr_c - Nb_c - Mo_c\n",
    "                        for Hf_c in range(0, end):\n",
    "                            end = 11 - Ti_c - V_c - Cr_c - Zr_c - Nb_c - Mo_c - Hf_c\n",
    "                            for Ta_c in range(0, end):\n",
    "                                W_c = 11 - Ti_c - V_c - Cr_c - Zr_c - Nb_c - Mo_c - Hf_c - Ta_c\n",
    "                                formula = f'Ti{Ti_c}V{V_c}Cr{Cr_c}Zr{Zr_c}Nb{Nb_c}Mo{Mo_c}Hf{Hf_c}Ta{Ta_c}W{W_c}C11'\n",
    "                                n_comp, real_formula = get_number_of_components(formula)\n",
    "                                formulas.append(real_formula)\n",
    "\n",
    "formulas = [x for x in formulas if x != '']\n",
    "num = [x for x in num if x != 0]\n",
    "np.savetxt('non-equiatomic_formulas.txt', formulas, fmt='%s')\n",
    "\n",
    "print(formulas[100:200])"
   ]
  },
  {
   "cell_type": "markdown",
   "id": "8d7a1db8-e15b-4509-9f57-f50887290d2f",
   "metadata": {},
   "source": [
    "## 5. Generate inputs"
   ]
  },
  {
   "cell_type": "code",
   "execution_count": null,
   "id": "4289cb51-f996-424f-9cc3-2925bedd69b0",
   "metadata": {},
   "outputs": [],
   "source": [
    "import json\n",
    "import numpy as np\n",
    "import os\n",
    "\n",
    "with open('input_config.json', 'r') as f:\n",
    "    config = json.load(f)\n",
    "\n",
    "hfg = HecFeatureGenerator(prop_precursor_path=config['prop_precursor_path'],\n",
    "                          props = config['props'],\n",
    "                          operators=config['operators'])\n",
    "\n",
    "# get x_data.txt\n",
    "eq_formulas = np.loadtxt('formulas.txt', dtype=str)\n",
    "non_eq_formulas = np.loadtxt('non-equiatomic_formulas.txt', dtype=str)\n",
    "formulas = np.hstack((eq_formulas, non_eq_formulas))\n",
    "\n",
    "features = hfg.get_input_feature_from_formula(*formulas)\n",
    "np.savetxt('x_data_init.txt',features, fmt='%.16f')\n",
    "\n",
    "hfp = HecFeatureParser('x_data_init.txt')\n",
    "new_features = hfp.reduce_dimension_by_PCA(n_components=2,\n",
    "                                save_model=False,\n",
    "                                load_model=False,\n",
    "                                model_path=os.path.join('.'),\n",
    "                                save_file=True)\n",
    "\n",
    "eq_features_pca = new_features[0:len(eq_formulas)]\n",
    "non_eq_features_pca = new_features[len(eq_formulas):]\n",
    "print(np.shape(eq_features_pca), np.shape(non_eq_features_pca))"
   ]
  },
  {
   "cell_type": "markdown",
   "id": "3417801f-3445-4951-944c-ad65f3b4e2d3",
   "metadata": {},
   "source": [
    "## 6. Visualize"
   ]
  },
  {
   "cell_type": "code",
   "execution_count": null,
   "id": "4f1a968c-3f79-4f20-aa12-5c9cfb2b8de0",
   "metadata": {},
   "outputs": [],
   "source": [
    "import matplotlib.pyplot as plt\n",
    "\n",
    "plt.scatter(non_eq_features_pca[:,0],non_eq_features_pca[:,1], s=0.2, alpha=0.3, label='Non-equiatomic')\n",
    "plt.scatter(eq_features_pca[:,0],eq_features_pca[:,1], s=10, label='Equiatomic')\n",
    "plt.xlabel('PC1')\n",
    "plt.ylabel('PC2')\n",
    "plt.legend()\n",
    "plt.show()"
   ]
  },
  {
   "cell_type": "markdown",
   "id": "b4be8401-deed-4a22-a0db-647f8942511e",
   "metadata": {},
   "source": [
    "## 7. Three principal components"
   ]
  },
  {
   "cell_type": "code",
   "execution_count": null,
   "id": "5be7d5d7-589f-4a17-9383-27c4bf4da166",
   "metadata": {},
   "outputs": [],
   "source": [
    "hfp = HecFeatureParser('x_data_init.txt')\n",
    "features_3PC = hfp.reduce_dimension_by_PCA(n_components=3,\n",
    "                                save_model=False,\n",
    "                                load_model=False,\n",
    "                                model_path=os.path.join('.'),\n",
    "                                save_file=False)\n",
    "eq_features_pca_3pc = features_3PC[0:len(eq_formulas)]\n",
    "non_eq_features_pca_3pc = features_3PC[len(eq_formulas):]\n",
    "\n",
    "plt.scatter(non_eq_features_pca_3pc[:,0],non_eq_features_pca_3pc[:,1], s=0.2, alpha=0.3, label='Non-equiatomic')\n",
    "plt.scatter(eq_features_pca_3pc[:,0],eq_features_pca_3pc[:,1], s=10, label='Equiatomic')\n",
    "plt.xlabel('PC1')\n",
    "plt.ylabel('PC2')\n",
    "plt.legend()\n",
    "plt.show()\n",
    "\n",
    "plt.scatter(non_eq_features_pca_3pc[:,0],non_eq_features_pca_3pc[:,2], s=0.2, alpha=0.3, label='Non-equiatomic')\n",
    "plt.scatter(eq_features_pca_3pc[:,0],eq_features_pca_3pc[:,2], s=10, label='Equiatomic')\n",
    "plt.xlabel('PC1')\n",
    "plt.ylabel('PC3')\n",
    "plt.legend()\n",
    "plt.show()\n",
    "\n",
    "plt.scatter(non_eq_features_pca_3pc[:,1],non_eq_features_pca_3pc[:,2], s=0.2, alpha=0.3, label='Non-equiatomic')\n",
    "plt.scatter(eq_features_pca_3pc[:,1],eq_features_pca_3pc[:,2], s=10, label='Equiatomic')\n",
    "plt.xlabel('PC2')\n",
    "plt.ylabel('PC3')\n",
    "plt.legend()\n",
    "plt.show()"
   ]
  }
 ],
 "metadata": {
  "kernelspec": {
   "display_name": "Python 3 (ipykernel)",
   "language": "python",
   "name": "python3"
  },
  "language_info": {
   "codemirror_mode": {
    "name": "ipython",
    "version": 3
   },
   "file_extension": ".py",
   "mimetype": "text/x-python",
   "name": "python",
   "nbconvert_exporter": "python",
   "pygments_lexer": "ipython3",
   "version": "3.10.0"
  }
 },
 "nbformat": 4,
 "nbformat_minor": 5
}
